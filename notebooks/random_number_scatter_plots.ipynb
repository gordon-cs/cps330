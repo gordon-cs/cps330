{
  "cells": [
    {
      "cell_type": "markdown",
      "id": "0578fcce-4ad7-44dc-817f-62d5006de3f9",
      "metadata": {
        "id": "0578fcce-4ad7-44dc-817f-62d5006de3f9"
      },
      "source": [
        "# Scatter plots of random numbers\n",
        "\n",
        "Demonstrate how to use NumPy's random number generator to get individual and groups of pseudo-random numbers."
      ]
    },
    {
      "cell_type": "code",
      "execution_count": null,
      "id": "e466f37c-8368-4e69-aa7f-01f25f3f8076",
      "metadata": {
        "id": "e466f37c-8368-4e69-aa7f-01f25f3f8076"
      },
      "outputs": [],
      "source": [
        "%matplotlib inline\n",
        "import matplotlib.pyplot as plt\n",
        "import numpy as np"
      ]
    },
    {
      "cell_type": "code",
      "execution_count": null,
      "id": "bc6c13b9-a51b-453c-b51d-5a89f327c3c5",
      "metadata": {
        "id": "bc6c13b9-a51b-453c-b51d-5a89f327c3c5"
      },
      "outputs": [],
      "source": [
        "# Instantiate a random number generator with a specific seed\n",
        "rng = np.random.default_rng(20240906)"
      ]
    },
    {
      "cell_type": "code",
      "execution_count": null,
      "id": "f3a91a37-0385-4855-9ceb-53180cacd14d",
      "metadata": {
        "id": "f3a91a37-0385-4855-9ceb-53180cacd14d"
      },
      "outputs": [],
      "source": [
        "# Let's see a (pseudo)random number\n",
        "rng.random()"
      ]
    },
    {
      "cell_type": "code",
      "execution_count": null,
      "id": "a8a38263-3dba-4645-80a7-91f837dde8ab",
      "metadata": {
        "id": "a8a38263-3dba-4645-80a7-91f837dde8ab"
      },
      "outputs": [],
      "source": [
        "# Generate five random numbers uniformly distributed on [0,1)\n",
        "rng.random(5)"
      ]
    },
    {
      "cell_type": "code",
      "execution_count": null,
      "id": "f1ff1cdd-f7f7-49db-98d3-6c8d94ed9c6c",
      "metadata": {
        "id": "f1ff1cdd-f7f7-49db-98d3-6c8d94ed9c6c"
      },
      "outputs": [],
      "source": [
        "# Let's get five more\n",
        "rng.random((5,))"
      ]
    },
    {
      "cell_type": "code",
      "execution_count": null,
      "id": "815fc85e-76e7-4446-ad5c-c36aebf29bef",
      "metadata": {
        "id": "815fc85e-76e7-4446-ad5c-c36aebf29bef"
      },
      "outputs": [],
      "source": [
        "# and five more - but now as a row in a 2-D array\n",
        "rng.random((1,5))"
      ]
    },
    {
      "cell_type": "code",
      "execution_count": null,
      "id": "c287ca78-dc8f-4968-856f-57680caa9e1a",
      "metadata": {
        "id": "c287ca78-dc8f-4968-856f-57680caa9e1a"
      },
      "outputs": [],
      "source": [
        "# Finally we'll get five more, but arranged in a column in a 2-D array\n",
        "rng.random((5,1))"
      ]
    },
    {
      "cell_type": "code",
      "execution_count": null,
      "id": "8a185f4d-bba4-429a-b5ec-a8dc232a79e1",
      "metadata": {
        "id": "8a185f4d-bba4-429a-b5ec-a8dc232a79e1"
      },
      "outputs": [],
      "source": [
        "# We can also get an array with 5 rows and 2 columns filled with uniformly distributed random numbers\n",
        "xy = rng.random(size=(5,2))"
      ]
    },
    {
      "cell_type": "code",
      "execution_count": null,
      "id": "92d79b42-6394-4add-8b26-4890e01691e7",
      "metadata": {
        "id": "92d79b42-6394-4add-8b26-4890e01691e7"
      },
      "outputs": [],
      "source": [
        "print(xy)"
      ]
    },
    {
      "cell_type": "markdown",
      "id": "de022f6c-e6fe-4bf1-bdd9-bd6416bf7917",
      "metadata": {
        "id": "de022f6c-e6fe-4bf1-bdd9-bd6416bf7917"
      },
      "source": [
        "This is some interesting data that is really exciting!"
      ]
    },
    {
      "cell_type": "code",
      "execution_count": null,
      "id": "ea12dd31-2f83-43bd-a186-aacc64c7bb1f",
      "metadata": {
        "id": "ea12dd31-2f83-43bd-a186-aacc64c7bb1f"
      },
      "outputs": [],
      "source": [
        "# Here is the first column of the data we just generated\n",
        "xy[:,0]"
      ]
    },
    {
      "cell_type": "code",
      "execution_count": null,
      "id": "8ccdf7d9-6f83-4be5-8e6e-302c30087c0a",
      "metadata": {
        "id": "8ccdf7d9-6f83-4be5-8e6e-302c30087c0a"
      },
      "outputs": [],
      "source": [
        "# and here is the second column\n",
        "xy[:,1]"
      ]
    },
    {
      "cell_type": "code",
      "execution_count": null,
      "id": "a529968a-b2d8-4b3a-aa37-9b6783d26716",
      "metadata": {
        "id": "a529968a-b2d8-4b3a-aa37-9b6783d26716"
      },
      "outputs": [],
      "source": [
        "# and here is the first row\n",
        "xy[0,:]"
      ]
    },
    {
      "cell_type": "markdown",
      "id": "1307d228-88c1-4fa1-b095-c2b6ade33153",
      "metadata": {
        "id": "1307d228-88c1-4fa1-b095-c2b6ade33153"
      },
      "source": [
        "## A scatter plot of 1000 random points with uniformly distributed in $[-1,1) \\times [-1,1)$\n",
        "\n",
        "Since `rng.random()` returns values greater or equal to 0 and strictly less than 1, we can get values in $[-1,1)$ by first multiplying by 2 (so the interval is now $[0,2)$, and then subracting 1 to shift values to the interval $[-1,1)$."
      ]
    },
    {
      "cell_type": "code",
      "execution_count": null,
      "id": "ea8d2987-8d20-4576-a015-933e11941668",
      "metadata": {
        "id": "ea8d2987-8d20-4576-a015-933e11941668"
      },
      "outputs": [],
      "source": [
        "n = 1000\n",
        "x = 2*rng.random(n)-1\n",
        "y = 2*rng.random(n)-1\n",
        "\n",
        "fig, ax = plt.subplots(figsize=(6, 6))\n",
        "ax.scatter(x, y)\n",
        "ax.set_aspect(1.)\n",
        "ax.axis('equal')\n",
        "plt.show()"
      ]
    },
    {
      "cell_type": "markdown",
      "id": "96246783-b7ac-4aa5-bf22-6b7d02c65872",
      "metadata": {
        "id": "96246783-b7ac-4aa5-bf22-6b7d02c65872"
      },
      "source": [
        "\\## Scatter plot with up to 1000 unformily distributed points inside the unit circle\n",
        "\n",
        "Now suppose we want 1000 points uniformly distributed inside a unit circle.  One **(incorrect)** way to do this would be to generate 1000 different values for a radius $r$ and 1000 different values for angle $\\theta$."
      ]
    },
    {
      "cell_type": "code",
      "source": [
        "r = rng.random(n)\n",
        "theta = 2 * np.pi * rng.random(n)\n",
        "x = r * np.cos(theta)\n",
        "y = r * np.sin(theta)\n",
        "\n",
        "# Create the plot\n",
        "fig, ax = plt.subplots(figsize=(6, 6))\n",
        "ax.scatter(x, y)\n",
        "ax.set_aspect(1.)\n",
        "ax.axis('equal')\n",
        "plt.show()"
      ],
      "metadata": {
        "id": "touu4hcp63ie"
      },
      "id": "touu4hcp63ie",
      "execution_count": null,
      "outputs": []
    },
    {
      "cell_type": "markdown",
      "source": [
        "This is not good, as the points are uniformly distributed around the circle but are more densely clustered near the center of the circle.\n",
        "\n",
        "A better approach is to compute a set of uniformly distributed points in a 2x2 square and then discard all the points outside the unit circle."
      ],
      "metadata": {
        "id": "eX7qq9iE7gMz"
      },
      "id": "eX7qq9iE7gMz"
    },
    {
      "cell_type": "code",
      "execution_count": null,
      "id": "a358da2b-e924-4d56-ba13-e6623ba93e27",
      "metadata": {
        "id": "a358da2b-e924-4d56-ba13-e6623ba93e27"
      },
      "outputs": [],
      "source": [
        "# Determine points within 1 unit of the origin\n",
        "# The entries in d are True or False\n",
        "x = 2*rng.random(n)-1\n",
        "y = 2*rng.random(n)-1\n",
        "d = x*x + y*y <= 1\n",
        "\n",
        "# select only those entries in x and y for which the\n",
        "# corresponding entry in d is True\n",
        "x = x[d]\n",
        "y = y[d]\n",
        "\n",
        "# Create the plot\n",
        "fig, ax = plt.subplots(figsize=(6, 6))\n",
        "ax.scatter(x, y)\n",
        "ax.set_aspect(1.)\n",
        "ax.axis('equal')\n",
        "plt.show()"
      ]
    },
    {
      "cell_type": "markdown",
      "source": [
        "We still have a problem, however, in that we now have significantly fewer than 1000 points."
      ],
      "metadata": {
        "id": "IZwzVD5A8jcN"
      },
      "id": "IZwzVD5A8jcN"
    },
    {
      "cell_type": "code",
      "source": [
        "print(f'Number of points: {len(x):d}')"
      ],
      "metadata": {
        "id": "MUpQ8zbL8uuQ"
      },
      "id": "MUpQ8zbL8uuQ",
      "execution_count": null,
      "outputs": []
    },
    {
      "cell_type": "markdown",
      "source": [
        "As a final attempt we will use the same approach but initially generate more than 1000 points in the 2x2 square, discard the points outside the circle, and then truncate the arrays to have only 1000 elements"
      ],
      "metadata": {
        "id": "dBN433ey88Lb"
      },
      "id": "dBN433ey88Lb"
    },
    {
      "cell_type": "code",
      "source": [
        "# Generate 1.5 times as many points as we need.  This should work\n",
        "# since (area of 2x2 square)/(area of unit circle) = 4/3.14159 = 1.27\n",
        "# so 1.5 gives us a good cushion.\n",
        "x = 2*rng.random(int(1.5*n))-1\n",
        "y = 2*rng.random(int(1.5*n))-1\n",
        "\n",
        "# Determine points within 1 unit of the origin\n",
        "# The entries in d are True or False\n",
        "d = x*x + y*y <= 1\n",
        "\n",
        "# select only those entries in x and y for which the\n",
        "# corresponding entry in d is True AND THEN keep only\n",
        "# the first n remaining data points\n",
        "x = x[d][:n]\n",
        "y = y[d][:n]\n",
        "\n",
        "# Create the plot\n",
        "fig, ax = plt.subplots(figsize=(6, 6))\n",
        "ax.scatter(x, y)\n",
        "ax.set_aspect(1.)\n",
        "ax.axis('equal')\n",
        "plt.show()\n",
        "print(f'Number of points: {len(x):d}')"
      ],
      "metadata": {
        "id": "kgY7yPfO9lk1"
      },
      "id": "kgY7yPfO9lk1",
      "execution_count": null,
      "outputs": []
    },
    {
      "cell_type": "markdown",
      "id": "28608136-7a02-4a4f-bda6-c2b61bfa916e",
      "metadata": {
        "id": "28608136-7a02-4a4f-bda6-c2b61bfa916e"
      },
      "source": [
        "## A scatter plot of 1000 random points with mean $\\mu = 0$ and standard deviation $\\sigma = 1.0$\n",
        "\n",
        "Notice that the code to do this looks almost like the code to produce uniformly distributed points in 2x2 square except we use a different function to generate the $x$ and $y$ values of the random points."
      ]
    },
    {
      "cell_type": "code",
      "execution_count": null,
      "id": "0f13ed1e-ee5a-4827-844f-36975161d0ad",
      "metadata": {
        "id": "0f13ed1e-ee5a-4827-844f-36975161d0ad"
      },
      "outputs": [],
      "source": [
        "x = rng.normal(0, 1.0, n)\n",
        "y = rng.normal(0, 1.0, n)\n",
        "\n",
        "fig, ax = plt.subplots(figsize=(6, 6))\n",
        "ax.scatter(x, y)\n",
        "ax.set_aspect(1.)\n",
        "ax.axis('equal')\n",
        "plt.show()"
      ]
    },
    {
      "cell_type": "markdown",
      "id": "4c11cecf-13d1-47ab-b0bc-981816de76d2",
      "metadata": {
        "id": "4c11cecf-13d1-47ab-b0bc-981816de76d2"
      },
      "source": [
        "## Scatter plot with histograms\n",
        "Here is an example based on https://matplotlib.org/stable/gallery/axes_grid1/scatter_hist_locatable_axes.html but replacing NumPy's deprecated random number generator with the newer version.  This is just here to give you some idea of the sort of plots you can generate to help you explore and understand data."
      ]
    },
    {
      "cell_type": "code",
      "execution_count": null,
      "id": "ac0f5f22-63fb-414c-859d-0cb557d48330",
      "metadata": {
        "id": "ac0f5f22-63fb-414c-859d-0cb557d48330"
      },
      "outputs": [],
      "source": [
        "from mpl_toolkits.axes_grid1.axes_divider import make_axes_locatable\n",
        "\n",
        "# Fixing random state for reproducibility\n",
        "rng = np.random.default_rng(19680801)\n",
        "\n",
        "# the random data\n",
        "x = rng.normal(0, 1.0, n)\n",
        "y = rng.normal(0, 1.0, n)\n",
        "\n",
        "fig, ax = plt.subplots(figsize=(5.5, 5.5))\n",
        "\n",
        "# the scatter plot:\n",
        "ax.scatter(x, y)\n",
        "\n",
        "# Set aspect of the main axes.\n",
        "ax.set_aspect(1.)\n",
        "\n",
        "# create new axes on the right and on the top of the current axes\n",
        "divider = make_axes_locatable(ax)\n",
        "# below height and pad are in inches\n",
        "ax_histx = divider.append_axes(\"top\", 1.2, pad=0.1, sharex=ax)\n",
        "ax_histy = divider.append_axes(\"right\", 1.2, pad=0.1, sharey=ax)\n",
        "\n",
        "# make some labels invisible\n",
        "ax_histx.xaxis.set_tick_params(labelbottom=False)\n",
        "ax_histy.yaxis.set_tick_params(labelleft=False)\n",
        "\n",
        "# now determine nice limits by hand:\n",
        "binwidth = 0.25\n",
        "xymax = max(np.max(np.abs(x)), np.max(np.abs(y)))\n",
        "lim = (int(xymax/binwidth) + 1)*binwidth\n",
        "\n",
        "bins = np.arange(-lim, lim + binwidth, binwidth)\n",
        "ax_histx.hist(x, bins=bins)\n",
        "ax_histy.hist(y, bins=bins, orientation='horizontal')\n",
        "\n",
        "# the xaxis of ax_histx and yaxis of ax_histy are shared with ax,\n",
        "# thus there is no need to manually adjust the xlim and ylim of these\n",
        "# axis.\n",
        "\n",
        "ax_histx.set_yticks([0, 50, 100])\n",
        "ax_histy.set_xticks([0, 50, 100])\n",
        "\n",
        "plt.show()"
      ]
    }
  ],
  "metadata": {
    "kernelspec": {
      "display_name": "Python 3",
      "language": "python",
      "name": "python3"
    },
    "language_info": {
      "codemirror_mode": {
        "name": "ipython",
        "version": 3
      },
      "file_extension": ".py",
      "mimetype": "text/x-python",
      "name": "python",
      "nbconvert_exporter": "python",
      "pygments_lexer": "ipython3",
      "version": "3.9.12"
    },
    "colab": {
      "provenance": []
    }
  },
  "nbformat": 4,
  "nbformat_minor": 5
}
{
  "cells": [
    {
      "cell_type": "markdown",
      "id": "5f049502",
      "metadata": {
        "id": "5f049502"
      },
      "source": [
        "# A First Jupyter Notebook\n",
        "Last Updated: 2024-08-06 <jonathan.senning@gordon.edu>\n",
        "\n",
        "In this example we are provided data relating the number of Calories burned per hour by people with different weights while riding a bicycle at 12 mph.  We want to use this data to develop a model that predicts the number of Calories per hour a person with a given weight will consume."
      ]
    },
    {
      "cell_type": "markdown",
      "id": "7d335740-6fff-41d5-8460-7b0d003eb787",
      "metadata": {
        "id": "7d335740-6fff-41d5-8460-7b0d003eb787"
      },
      "source": [
        "## Setup the environment"
      ]
    },
    {
      "cell_type": "code",
      "execution_count": null,
      "id": "a4336be1-6d19-4d92-b219-e56efbf9853c",
      "metadata": {
        "id": "a4336be1-6d19-4d92-b219-e56efbf9853c"
      },
      "outputs": [],
      "source": [
        "# Make figures appear in the notebook, not in separate windows\n",
        "%matplotlib inline\n",
        "\n",
        "# Import Python packages with frequently used nicknames\n",
        "import numpy as np\n",
        "import pandas as pd\n",
        "import matplotlib.pyplot as plt"
      ]
    },
    {
      "cell_type": "markdown",
      "id": "3c982393-be38-4832-9ac4-6b20fbb33680",
      "metadata": {
        "id": "3c982393-be38-4832-9ac4-6b20fbb33680"
      },
      "source": [
        "## Read in and examine the data\n",
        "\n",
        "Were going to read the data and store it in a variable named `df`.  (There is nothing special about `df`, here it just means 'dataframe')."
      ]
    },
    {
      "cell_type": "code",
      "source": [
        "# Create a Pandas dataframe from a CSV file\n",
        "\n",
        "# Define base URL used for class datasets in GitHub\n",
        "baseURL = 'https://raw.githubusercontent.com/gordon-cs/cps330/main'\n",
        "dataset_filename = baseURL + '/datasets/bicycling.csv'\n",
        "df = pd.read_csv(dataset_filename)"
      ],
      "metadata": {
        "id": "BU294k27ULt_"
      },
      "id": "BU294k27ULt_",
      "execution_count": null,
      "outputs": []
    },
    {
      "cell_type": "code",
      "execution_count": null,
      "id": "334c2417-2d8a-43b9-91d7-6cbb2fadaf71",
      "metadata": {
        "id": "334c2417-2d8a-43b9-91d7-6cbb2fadaf71"
      },
      "outputs": [],
      "source": [
        "# Get basic information about the data in the dataframe\n",
        "df.info()"
      ]
    },
    {
      "cell_type": "markdown",
      "id": "6032d849-2101-48c8-a016-64b302aceb63",
      "metadata": {
        "id": "6032d849-2101-48c8-a016-64b302aceb63"
      },
      "source": [
        "**Note:** From the output above we see that there are three columns of 20 data elements indexed from 0 to 19.  The columns have labels 'Subject', 'Weight', and 'Cal/hr', and the data records, indexed from 0 to 19.  We're also told that the type of data in each of the three columns is 'int64', which means each integer is stored in 64 bits (8 bytes)."
      ]
    },
    {
      "cell_type": "code",
      "execution_count": null,
      "id": "578d73a0-3812-4f40-b855-3f7238d46a45",
      "metadata": {
        "id": "578d73a0-3812-4f40-b855-3f7238d46a45"
      },
      "outputs": [],
      "source": [
        "# Examine the first five data records in each column\n",
        "df.head()"
      ]
    },
    {
      "cell_type": "markdown",
      "id": "70495da8-4ecb-499c-8041-a069bf1b680c",
      "metadata": {
        "id": "70495da8-4ecb-499c-8041-a069bf1b680c"
      },
      "source": [
        "**Note:** The numbers in the far left column are printed automatically and represent the indices that Pandas uses for the data.  The numbers in the 'Subject' column represent ID numbers of people in the study.\n",
        "\n",
        "Just as we used `df.head()`, the command `df.tail()` can be used to inspect the last few data records."
      ]
    },
    {
      "cell_type": "code",
      "execution_count": null,
      "id": "b64d5bd2",
      "metadata": {
        "id": "b64d5bd2"
      },
      "outputs": [],
      "source": [
        "df.tail()"
      ]
    },
    {
      "cell_type": "markdown",
      "id": "c87cb3d6-d502-44f3-84ca-2439e930b120",
      "metadata": {
        "id": "c87cb3d6-d502-44f3-84ca-2439e930b120"
      },
      "source": [
        "## Plot data\n",
        "\n",
        "Next we'll plot the data.  Because we will do this more than once it's helpful to create a Python function that we can use multiple times."
      ]
    },
    {
      "cell_type": "code",
      "execution_count": null,
      "id": "a11c81e7-7c17-4c3b-97a4-58bf9d265f9c",
      "metadata": {
        "id": "a11c81e7-7c17-4c3b-97a4-58bf9d265f9c"
      },
      "outputs": [],
      "source": [
        "def plot_data(plt, weight, cal_per_hour, marker='bo'):\n",
        "    \"\"\"Create scatter plot of study data\"\"\"\n",
        "    plt.plot(np.array(weight), np.array(cal_per_hour), marker)\n",
        "    plt.xlim((min(weight)-20, max(weight)+20))\n",
        "    plt.ylim((min(cal_per_hour)-20,max(cal_per_hour)+20))\n",
        "    plt.xlabel('Weight (lbs)')\n",
        "    plt.ylabel('Calories burned per hour')\n",
        "    plt.title('Calories per hour burned while riding a bicycle at 12 mph')\n",
        "\n",
        "# Use the function we just created to plot the data\n",
        "plot_data(plt, df['Weight'], df['Cal/hr'])\n",
        "plt.show()"
      ]
    },
    {
      "cell_type": "markdown",
      "id": "61198747-f621-46de-8854-f9a42fd6912e",
      "metadata": {
        "id": "61198747-f621-46de-8854-f9a42fd6912e"
      },
      "source": [
        "## Prepare the data\n",
        "\n",
        "The first thing we should do (actually, we **should** have done it before graphing our data) is separate the data into a *training set* and a *test set*.  While this is often done randomly, we do it here so that it matches the example shown in the class presentation."
      ]
    },
    {
      "cell_type": "code",
      "execution_count": null,
      "id": "95f2fde3-a488-4109-b0ff-6f376aae0614",
      "metadata": {
        "id": "95f2fde3-a488-4109-b0ff-6f376aae0614"
      },
      "outputs": [],
      "source": [
        "# Create a test dataframe by extracting the test data\n",
        "test_df = df.iloc[[4,6,11,16,17]]"
      ]
    },
    {
      "cell_type": "code",
      "execution_count": null,
      "id": "e89baeee-5053-4863-90f2-a2b1ba0376c9",
      "metadata": {
        "id": "e89baeee-5053-4863-90f2-a2b1ba0376c9"
      },
      "outputs": [],
      "source": [
        "# Create a training dataframe by dropping test data\n",
        "train_df = df.drop([4,6,11,16,17])"
      ]
    },
    {
      "cell_type": "markdown",
      "id": "ed89bcae-d123-4ccf-ae9b-931adb9ca2a6",
      "metadata": {
        "id": "ed89bcae-d123-4ccf-ae9b-931adb9ca2a6"
      },
      "source": [
        "**Note:** As we noted before, in real problems we don't look at the test data even though we do so here."
      ]
    },
    {
      "cell_type": "code",
      "execution_count": null,
      "id": "91a701c6-c482-407c-808d-7336c52004d6",
      "metadata": {
        "id": "91a701c6-c482-407c-808d-7336c52004d6"
      },
      "outputs": [],
      "source": [
        "test_df.head()"
      ]
    },
    {
      "cell_type": "code",
      "execution_count": null,
      "id": "18bcc6ce-cbbc-41dc-94ff-511b4e56a2bb",
      "metadata": {
        "id": "18bcc6ce-cbbc-41dc-94ff-511b4e56a2bb"
      },
      "outputs": [],
      "source": [
        "# Create a 1-dimensional arrays from training data\n",
        "weight = train_df['Weight']\n",
        "cal_per_hour = train_df['Cal/hr']\n",
        "plot_data(plt, weight, cal_per_hour)\n",
        "plt.show()"
      ]
    },
    {
      "cell_type": "markdown",
      "id": "6014a520-e760-4164-9f81-1ff5680fa9b3",
      "metadata": {
        "id": "6014a520-e760-4164-9f81-1ff5680fa9b3"
      },
      "source": [
        "## Model Development\n",
        "\n",
        "The scatter plot of the training data suggest that there is a linear relationship between a person's weight and the number of Calories per hour that they burn while riding a bicycle.  This suggests that a *linear model* would do well for this problem."
      ]
    },
    {
      "cell_type": "code",
      "execution_count": null,
      "id": "5a08aebb-00fe-46fa-8c5a-de1d3e5c5cff",
      "metadata": {
        "id": "5a08aebb-00fe-46fa-8c5a-de1d3e5c5cff"
      },
      "outputs": [],
      "source": [
        "def simple_linear_regression(x, y):\n",
        "    \"\"\"Compute intercept and slope using linear regression\"\"\"\n",
        "    n = len(x)\n",
        "    x_sum = sum(x)\n",
        "    y_sum = sum(y)\n",
        "    xy_sum = sum(x*y)\n",
        "    x2_sum = sum(x*x)\n",
        "\n",
        "    # See, for example, https://www.geeksforgeeks.org/linear-regression-formula/\n",
        "    a = (y_sum*x2_sum-x_sum*xy_sum)/(n*x2_sum-x_sum*x_sum)\n",
        "    b = (n*xy_sum-x_sum*y_sum)/(n*x2_sum-x_sum*x_sum)\n",
        "    return (a, b)"
      ]
    },
    {
      "cell_type": "markdown",
      "id": "7cf18e12-e7c0-42b7-9705-d1e6cff521fb",
      "metadata": {
        "id": "7cf18e12-e7c0-42b7-9705-d1e6cff521fb"
      },
      "source": [
        "Create a function to plot a line though a domain that contains all the weight values using a provided intercept and slope."
      ]
    },
    {
      "cell_type": "code",
      "execution_count": null,
      "id": "7fa9849a-8987-449f-8511-c6b784196607",
      "metadata": {
        "id": "7fa9849a-8987-449f-8511-c6b784196607"
      },
      "outputs": [],
      "source": [
        "def plot_fit(plt, a, b, weight):\n",
        "    \"\"\"Draw line with y-intercept b and slope a in weight domain\"\"\"\n",
        "    u = np.array([min(weight)-20, max(weight)+20]) # compute independent values\n",
        "    v = a + b * u                                  # compute dependent values\n",
        "    plt.plot(u, v, 'r-', linewidth=1)\n",
        "    plt.legend( ('Data', f'$y=a+bx$ with $a={a:.3f}$, $b={b:.3f}$'), loc='lower right')"
      ]
    },
    {
      "cell_type": "markdown",
      "source": [
        "While we know it will not give a very good result, we use the average Calories per hour as the predicted value for riders of all weights.  This will look like a horizontal line on the graph."
      ],
      "metadata": {
        "id": "t-dFxNQDsGq5"
      },
      "id": "t-dFxNQDsGq5"
    },
    {
      "cell_type": "code",
      "execution_count": null,
      "id": "b6169e32-e908-4f52-a093-3aaf272ae7ea",
      "metadata": {
        "id": "b6169e32-e908-4f52-a093-3aaf272ae7ea"
      },
      "outputs": [],
      "source": [
        "# While clearly not optimal, we start by plotting a horizontal line\n",
        "plot_data(plt, weight, cal_per_hour)\n",
        "plot_fit(plt, np.average(cal_per_hour), 0, weight)\n",
        "plt.show()"
      ]
    },
    {
      "cell_type": "markdown",
      "source": [
        "Now let's use linear regression to determine the *parameters* of a linear model to fit the data.  In this case the parameters are the intercept and slope of the line that *best fits* the data in a least-squares sense."
      ],
      "metadata": {
        "id": "BdWkzSCgsoui"
      },
      "id": "BdWkzSCgsoui"
    },
    {
      "cell_type": "code",
      "execution_count": null,
      "id": "e15b31f5-e478-4c05-82c8-ca09c62d7e19",
      "metadata": {
        "id": "e15b31f5-e478-4c05-82c8-ca09c62d7e19"
      },
      "outputs": [],
      "source": [
        "# Perform linear regression on training data\n",
        "# to compute the intercept a and slope b\n",
        "a, b = simple_linear_regression(weight, cal_per_hour)\n",
        "plot_data(plt, weight, cal_per_hour)\n",
        "plot_fit(plt, a, b, weight)"
      ]
    },
    {
      "cell_type": "markdown",
      "id": "4e0d8699",
      "metadata": {
        "id": "4e0d8699"
      },
      "source": [
        "In the Machine Learning context, we often use the term *cost* to mean the measure of the *error* or *difference* between the actual data and the estimates from the linear model.  A cost of 0 means that the linear model exactly predicts the data values.\n",
        "\n",
        "There are various was to compute cost.  Here we compute the *sum of squared residuals*, the sum of all the squares of the distances between each actual data value and the value predicted by the model, and divide it by twice the number of data values."
      ]
    },
    {
      "cell_type": "code",
      "execution_count": null,
      "id": "fe512d1a-ef45-4d7d-b927-d9933e806a3f",
      "metadata": {
        "id": "fe512d1a-ef45-4d7d-b927-d9933e806a3f"
      },
      "outputs": [],
      "source": [
        "def cost(a, b, x, y):\n",
        "    \"\"\"Compute the cost function J(a,b)\"\"\"\n",
        "    n = len(x)\n",
        "    return sum((a + b * x - y)**2)/(2*n)"
      ]
    },
    {
      "cell_type": "code",
      "execution_count": null,
      "id": "5e3f6937-1c98-427d-9bad-d2401525cf75",
      "metadata": {
        "id": "5e3f6937-1c98-427d-9bad-d2401525cf75"
      },
      "outputs": [],
      "source": [
        "J = cost(a, b, weight,cal_per_hour)\n",
        "print(f'The model cost using the training data is {J:6.2f}')"
      ]
    },
    {
      "cell_type": "markdown",
      "id": "51677640-88a9-4f0d-b680-2e6119372427",
      "metadata": {
        "id": "51677640-88a9-4f0d-b680-2e6119372427"
      },
      "source": [
        "## Check performance using test data\n",
        "\n",
        "Once a model has been trained, it is important to validate it.  Here we will use our test data -- which was not used during training."
      ]
    },
    {
      "cell_type": "code",
      "execution_count": null,
      "id": "d294274c-91de-4c14-98b2-31e2844c3b48",
      "metadata": {
        "id": "d294274c-91de-4c14-98b2-31e2844c3b48"
      },
      "outputs": [],
      "source": [
        "plot_data(plt, test_df['Weight'], test_df['Cal/hr'])\n",
        "plot_fit(plt, a, b, test_df['Weight'])"
      ]
    },
    {
      "cell_type": "code",
      "execution_count": null,
      "id": "28a07378-f17b-4ca4-8c77-65a73de9d4ec",
      "metadata": {
        "id": "28a07378-f17b-4ca4-8c77-65a73de9d4ec"
      },
      "outputs": [],
      "source": [
        "J = cost(a, b, test_df['Weight'], test_df['Cal/hr'])\n",
        "print(f'Cost using the test data is {J:6.2f}')"
      ]
    },
    {
      "cell_type": "markdown",
      "id": "29893671",
      "metadata": {
        "id": "29893671"
      },
      "source": [
        "Not surprisingly, the cost using the test data is larger than the cost we found when using the training data.  Ideally we want both these cost values to be as small as possible and reasonably close together.  If the cost computed from the test data is significantly larger than the training cost, then the model is probably not doing a very good job of predicting data."
      ]
    },
    {
      "cell_type": "code",
      "execution_count": null,
      "id": "0f42f867",
      "metadata": {
        "id": "0f42f867"
      },
      "outputs": [],
      "source": []
    }
  ],
  "metadata": {
    "kernelspec": {
      "display_name": "Python 3",
      "language": "python",
      "name": "python3"
    },
    "language_info": {
      "codemirror_mode": {
        "name": "ipython",
        "version": 3
      },
      "file_extension": ".py",
      "mimetype": "text/x-python",
      "name": "python",
      "nbconvert_exporter": "python",
      "pygments_lexer": "ipython3",
      "version": "3.10.12"
    },
    "colab": {
      "provenance": []
    }
  },
  "nbformat": 4,
  "nbformat_minor": 5
}